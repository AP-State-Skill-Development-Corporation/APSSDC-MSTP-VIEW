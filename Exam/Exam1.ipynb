{
 "cells": [
  {
   "cell_type": "markdown",
   "metadata": {},
   "source": [
    "### 1. Find the given number is Amstrong or not\n",
    "\n",
    "**Amstrong Number:**\n",
    "The 'x' digit numbers equal to the sum of the powers of their digits (a finite sequence) are called Armstrong numbers are given by 1, 2, 3, 4, 5, 6, 7, 8, 9, 153, 370, 371, 407, 1634, 8208, 9474, 54748..\n",
    "\n",
    "```\n",
    "   Sample Inputs: \n",
    "      1. 153 = 1^3+5^3+3^3\n",
    "      2. 1634 = 1^4+6^4+3^4+4^4\n",
    "```"
   ]
  },
  {
   "cell_type": "code",
   "execution_count": null,
   "metadata": {},
   "outputs": [],
   "source": [
    "import random\n",
    "n = random.randint(1,999999)"
   ]
  },
  {
   "cell_type": "code",
   "execution_count": null,
   "metadata": {},
   "outputs": [],
   "source": [
    "# Put your answer here\n"
   ]
  },
  {
   "cell_type": "markdown",
   "metadata": {},
   "source": [
    "### 2. Write a function to find the Factors of a given number and return a List of its factors\n",
    "Input: 12\n",
    "\n",
    "Output: [1, 2, 3, 4, 6]"
   ]
  },
  {
   "cell_type": "code",
   "execution_count": null,
   "metadata": {},
   "outputs": [],
   "source": [
    "import random\n",
    "n = random.randint(1,999999)\n",
    "print(n)"
   ]
  },
  {
   "cell_type": "code",
   "execution_count": null,
   "metadata": {},
   "outputs": [],
   "source": [
    "# Put your answer here\n"
   ]
  },
  {
   "cell_type": "markdown",
   "metadata": {},
   "source": [
    "### 3. Write a Python program to count the number of alphabets,Numbers contained in the list of strings.\n",
    "Sample List : ['abc', 'xyz', 'aba', '1221',’a’,’ab’,’asdf’,’pytho@’,124@abc’]\n",
    "\n",
    "Output: Alpa = 24,Digits = 7\n"
   ]
  },
  {
   "cell_type": "code",
   "execution_count": null,
   "metadata": {},
   "outputs": [],
   "source": [
    "## Yours Input list\n",
    "li = []\n",
    "import random\n",
    "for i in range(0,random.randint(1,15)):\n",
    "    s = ''\n",
    "    for j in range(0,random.randint(1,15)):\n",
    "            s+=chr(random.randint(48,122))\n",
    "    li.append(s)\n",
    "print(li)"
   ]
  },
  {
   "cell_type": "code",
   "execution_count": null,
   "metadata": {},
   "outputs": [],
   "source": [
    "# Put your answer here\n"
   ]
  },
  {
   "cell_type": "markdown",
   "metadata": {},
   "source": [
    "### 4. Write a Python program to convert a list of multiple integers into a single integer and squares of the integer.\n",
    "Sample list: [11, 33, 50]\n",
    "\n",
    "Expected Output: integer: 113350, Sq: 12848222500\n",
    "\n"
   ]
  },
  {
   "cell_type": "code",
   "execution_count": null,
   "metadata": {},
   "outputs": [],
   "source": [
    "import random\n",
    "li = []\n",
    "for i in range(0,random.randint(1,10)):\n",
    "    li.append(random.randint(1,1500))\n",
    "print(li)"
   ]
  },
  {
   "cell_type": "code",
   "execution_count": null,
   "metadata": {},
   "outputs": [],
   "source": [
    "# Put your answer here\n"
   ]
  },
  {
   "cell_type": "markdown",
   "metadata": {},
   "source": [
    "### 5. Write a Python program to convert a list of strings into a dictionary of sorted string as key and number of characters in the string as value.\n",
    "\n",
    "Sample list: [‘cab’,‘rfs’,’vde’,’trs’,’852’,’qw3db’,’qcbh42fnj’]\n",
    "\n",
    "Expected Output: {‘abc’: 3, ’frs’: 3, ’dev’: 3, ’rst’: 3, ’3bdqw’: 5, ’24bcfhjnq’: 9}\n"
   ]
  },
  {
   "cell_type": "code",
   "execution_count": null,
   "metadata": {},
   "outputs": [],
   "source": [
    "## <---- Input\n",
    "li = []\n",
    "import random\n",
    "for i in range(0,random.randint(1,15)):\n",
    "    s = ''\n",
    "    for j in range(0,random.randint(1,15)):\n",
    "            s+=chr(random.randint(0,122))\n",
    "    li.append(s)\n",
    "print(li)\n",
    "#       ----->"
   ]
  },
  {
   "cell_type": "code",
   "execution_count": null,
   "metadata": {},
   "outputs": [],
   "source": [
    "# Put your answer here\n"
   ]
  },
  {
   "cell_type": "markdown",
   "metadata": {},
   "source": [
    "### 6. Write a Python program to change a given string to a new string where the first and last chars have been exchanged.\n",
    "Input: Python\n",
    "\n",
    "Expected Output: nythop"
   ]
  },
  {
   "cell_type": "code",
   "execution_count": null,
   "metadata": {},
   "outputs": [],
   "source": [
    "# Put your answer here\n"
   ]
  },
  {
   "cell_type": "markdown",
   "metadata": {},
   "source": [
    "### 7. Write a Python program to remove duplicates from the list of strings and create a dictionary of unique strinfs as key and number of unique characters as value.\n",
    "\n",
    "Sample list: ['acabd','raafsxcmme','rrladvde','treaets','886sdewaa52','qaswfw3db','qddwaacbh42fnj']\n",
    "\n",
    "Expected Output: {'acbd': 4, 'rafsxcme': 8, 'rladve': 6, 'treas': 5, '86sdewa52': 9, 'qaswf3db': 8, 'qdwacbh42fnj': 12}"
   ]
  },
  {
   "cell_type": "code",
   "execution_count": null,
   "metadata": {},
   "outputs": [],
   "source": [
    "## <---- Input\n",
    "li = []\n",
    "import random\n",
    "for i in range(0,random.randint(5,15)):\n",
    "    s = ''\n",
    "    for j in range(0,random.randint(1,15)):\n",
    "            s+=chr(random.randint(0,122))\n",
    "    li.append(s)\n",
    "print(li)\n",
    "#       ----->"
   ]
  },
  {
   "cell_type": "code",
   "execution_count": null,
   "metadata": {},
   "outputs": [],
   "source": [
    "# Put your answer here\n"
   ]
  },
  {
   "cell_type": "markdown",
   "metadata": {},
   "source": [
    "### 8. Write a function for all the arithmetic operations by using Functions\n",
    "- Addition (+)\n",
    "- Subtraction (-)\n",
    "- Multiplication (*)\n",
    "- Division (/)\n",
    "- Floor Division (//)\n"
   ]
  },
  {
   "cell_type": "code",
   "execution_count": null,
   "metadata": {},
   "outputs": [],
   "source": [
    "# Put your answer here\n"
   ]
  },
  {
   "cell_type": "markdown",
   "metadata": {},
   "source": [
    "### 9. Write a NumPy program to create a 3x3 matrix with values ranging from 2 to 10"
   ]
  },
  {
   "cell_type": "code",
   "execution_count": null,
   "metadata": {},
   "outputs": [],
   "source": [
    "# Put your answer here\n"
   ]
  },
  {
   "cell_type": "markdown",
   "metadata": {},
   "source": [
    "### 10. Create a 3×3 numpy array, find out the Minimum,Maximum values and also their indices accordingly for each axes. Also find out the Statistical methods such as Standard Deviation,Cumulative sum and product."
   ]
  },
  {
   "cell_type": "code",
   "execution_count": null,
   "metadata": {},
   "outputs": [],
   "source": [
    "# Put your answer here\n"
   ]
  }
 ],
 "metadata": {
  "kernelspec": {
   "display_name": "Python 3",
   "language": "python",
   "name": "python3"
  },
  "language_info": {
   "codemirror_mode": {
    "name": "ipython",
    "version": 3
   },
   "file_extension": ".py",
   "mimetype": "text/x-python",
   "name": "python",
   "nbconvert_exporter": "python",
   "pygments_lexer": "ipython3",
   "version": "3.7.3"
  }
 },
 "nbformat": 4,
 "nbformat_minor": 2
}
